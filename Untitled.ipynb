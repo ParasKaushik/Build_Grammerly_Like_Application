{
 "cells": [
  {
   "cell_type": "code",
   "execution_count": 2,
   "id": "c3573adf",
   "metadata": {},
   "outputs": [],
   "source": [
    "from gingerit.gingerit import GingerIt\n",
    "import cloudscraper"
   ]
  },
  {
   "cell_type": "code",
   "execution_count": 3,
   "id": "b0692954",
   "metadata": {},
   "outputs": [],
   "source": [
    "text='Mahine Lerning is a part Artifiial Ineligence'\n"
   ]
  },
  {
   "cell_type": "code",
   "execution_count": 5,
   "id": "4a055703",
   "metadata": {},
   "outputs": [
    {
     "data": {
      "text/plain": [
       "'Machine learning is a part Artificial Intelligence'"
      ]
     },
     "execution_count": 5,
     "metadata": {},
     "output_type": "execute_result"
    }
   ],
   "source": [
    "parser=GingerIt()\n",
    "parser.parse(text)['result']"
   ]
  },
  {
   "cell_type": "code",
   "execution_count": null,
   "id": "988d5bcb",
   "metadata": {},
   "outputs": [],
   "source": [
    "#streamlit"
   ]
  }
 ],
 "metadata": {
  "kernelspec": {
   "display_name": "Python 3 (ipykernel)",
   "language": "python",
   "name": "python3"
  },
  "language_info": {
   "codemirror_mode": {
    "name": "ipython",
    "version": 3
   },
   "file_extension": ".py",
   "mimetype": "text/x-python",
   "name": "python",
   "nbconvert_exporter": "python",
   "pygments_lexer": "ipython3",
   "version": "3.9.12"
  }
 },
 "nbformat": 4,
 "nbformat_minor": 5
}
